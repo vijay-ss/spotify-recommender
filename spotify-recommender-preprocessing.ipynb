{
 "cells": [
  {
   "cell_type": "markdown",
   "metadata": {},
   "source": [
    "# Spotify Recommender Part 1 - Data Preprocessing"
   ]
  },
  {
   "cell_type": "markdown",
   "metadata": {},
   "source": [
    "To do:\n",
    "- check API reference for additional data that can be pulled in for artist/genres\n",
    "- join data via sql\n",
    "- clean data"
   ]
  },
  {
   "cell_type": "code",
   "execution_count": 1,
   "metadata": {},
   "outputs": [],
   "source": [
    "import os\n",
    "import re\n",
    "import pandas as pd\n",
    "import numpy as np\n",
    "import sqlite3\n",
    "\n",
    "import seaborn as sns\n",
    "import matplotlib.pyplot as plt\n",
    "%matplotlib inline\n",
    "\n",
    "from secrets import SPOTIFY_HISTORY_DB"
   ]
  },
  {
   "cell_type": "markdown",
   "metadata": {},
   "source": [
    "## Import Data"
   ]
  },
  {
   "cell_type": "markdown",
   "metadata": {},
   "source": [
    "First we setup the connection to the SQL DB which contains 3 tables:\n",
    "- **streaming_history**: each song listened to starting 02-01-2021\n",
    "- **genres**: each of the artists from streaming_history, tagged with their corresponding genre\n",
    "- **song_features**: each track from streaming_history, with details at the song level \n",
    "    - details include corresponding track values (liveness, tempo, valence etc.)"
   ]
  },
  {
   "cell_type": "code",
   "execution_count": 2,
   "metadata": {},
   "outputs": [],
   "source": [
    "conn = sqlite3.connect(SPOTIFY_HISTORY_DB)\n",
    "\n",
    "df_sh = pd.read_sql_query(\"SELECT * FROM streaming_history\", conn)\n",
    "df_genres = pd.read_sql_query(\"SELECT * FROM genres\", conn)\n",
    "df_features = pd.read_sql_query(\"SELECT * FROM song_features\", conn)"
   ]
  },
  {
   "cell_type": "code",
   "execution_count": 3,
   "metadata": {},
   "outputs": [
    {
     "data": {
      "text/html": [
       "<div>\n",
       "<style scoped>\n",
       "    .dataframe tbody tr th:only-of-type {\n",
       "        vertical-align: middle;\n",
       "    }\n",
       "\n",
       "    .dataframe tbody tr th {\n",
       "        vertical-align: top;\n",
       "    }\n",
       "\n",
       "    .dataframe thead th {\n",
       "        text-align: right;\n",
       "    }\n",
       "</style>\n",
       "<table border=\"1\" class=\"dataframe\">\n",
       "  <thead>\n",
       "    <tr style=\"text-align: right;\">\n",
       "      <th></th>\n",
       "      <th>spotify_id</th>\n",
       "      <th>uri</th>\n",
       "      <th>song_name</th>\n",
       "      <th>artist_name</th>\n",
       "      <th>played_at</th>\n",
       "      <th>duration_ms</th>\n",
       "      <th>date</th>\n",
       "      <th>ETL_DTTM</th>\n",
       "      <th>artist_uri</th>\n",
       "    </tr>\n",
       "  </thead>\n",
       "  <tbody>\n",
       "    <tr>\n",
       "      <th>4427</th>\n",
       "      <td>6cA8yDBX9TUen9VzIgoL1x</td>\n",
       "      <td>spotify:track:6cA8yDBX9TUen9VzIgoL1x</td>\n",
       "      <td>Miss Me (feat. AJ Tracey)</td>\n",
       "      <td>MoStack</td>\n",
       "      <td>2021-09-30 14:43:01.278000</td>\n",
       "      <td>175461</td>\n",
       "      <td>2021-09-30</td>\n",
       "      <td>2021-10-01, 00:05:06</td>\n",
       "      <td>14H15rElxdGClICOZXEYHP</td>\n",
       "    </tr>\n",
       "  </tbody>\n",
       "</table>\n",
       "</div>"
      ],
      "text/plain": [
       "                  spotify_id                                   uri  \\\n",
       "4427  6cA8yDBX9TUen9VzIgoL1x  spotify:track:6cA8yDBX9TUen9VzIgoL1x   \n",
       "\n",
       "                      song_name artist_name                   played_at  \\\n",
       "4427  Miss Me (feat. AJ Tracey)     MoStack  2021-09-30 14:43:01.278000   \n",
       "\n",
       "      duration_ms        date              ETL_DTTM              artist_uri  \n",
       "4427       175461  2021-09-30  2021-10-01, 00:05:06  14H15rElxdGClICOZXEYHP  "
      ]
     },
     "execution_count": 3,
     "metadata": {},
     "output_type": "execute_result"
    }
   ],
   "source": [
    "df_sh.tail(1)"
   ]
  },
  {
   "cell_type": "code",
   "execution_count": 4,
   "metadata": {},
   "outputs": [
    {
     "data": {
      "text/html": [
       "<div>\n",
       "<style scoped>\n",
       "    .dataframe tbody tr th:only-of-type {\n",
       "        vertical-align: middle;\n",
       "    }\n",
       "\n",
       "    .dataframe tbody tr th {\n",
       "        vertical-align: top;\n",
       "    }\n",
       "\n",
       "    .dataframe thead th {\n",
       "        text-align: right;\n",
       "    }\n",
       "</style>\n",
       "<table border=\"1\" class=\"dataframe\">\n",
       "  <thead>\n",
       "    <tr style=\"text-align: right;\">\n",
       "      <th></th>\n",
       "      <th>spotify_url</th>\n",
       "      <th>total_followers</th>\n",
       "      <th>genres</th>\n",
       "      <th>artist_id</th>\n",
       "      <th>artist_name</th>\n",
       "      <th>popularity</th>\n",
       "      <th>uri</th>\n",
       "      <th>ETL_DTTM</th>\n",
       "    </tr>\n",
       "  </thead>\n",
       "  <tbody>\n",
       "    <tr>\n",
       "      <th>0</th>\n",
       "      <td>https://open.spotify.com/artist/3SFVIUlipGj3Rp...</td>\n",
       "      <td>48610</td>\n",
       "      <td>['bass trap', 'traprun']</td>\n",
       "      <td>3SFVIUlipGj3RpWCKe9s73</td>\n",
       "      <td>Lox Chatterbox</td>\n",
       "      <td>58</td>\n",
       "      <td>spotify:artist:3SFVIUlipGj3RpWCKe9s73</td>\n",
       "      <td>2021-02-14, 09:25:59</td>\n",
       "    </tr>\n",
       "  </tbody>\n",
       "</table>\n",
       "</div>"
      ],
      "text/plain": [
       "                                         spotify_url  total_followers  \\\n",
       "0  https://open.spotify.com/artist/3SFVIUlipGj3Rp...            48610   \n",
       "\n",
       "                     genres               artist_id     artist_name  \\\n",
       "0  ['bass trap', 'traprun']  3SFVIUlipGj3RpWCKe9s73  Lox Chatterbox   \n",
       "\n",
       "   popularity                                    uri              ETL_DTTM  \n",
       "0          58  spotify:artist:3SFVIUlipGj3RpWCKe9s73  2021-02-14, 09:25:59  "
      ]
     },
     "execution_count": 4,
     "metadata": {},
     "output_type": "execute_result"
    }
   ],
   "source": [
    "df_genres.head(1)"
   ]
  },
  {
   "cell_type": "code",
   "execution_count": 5,
   "metadata": {},
   "outputs": [
    {
     "data": {
      "text/html": [
       "<div>\n",
       "<style scoped>\n",
       "    .dataframe tbody tr th:only-of-type {\n",
       "        vertical-align: middle;\n",
       "    }\n",
       "\n",
       "    .dataframe tbody tr th {\n",
       "        vertical-align: top;\n",
       "    }\n",
       "\n",
       "    .dataframe thead th {\n",
       "        text-align: right;\n",
       "    }\n",
       "</style>\n",
       "<table border=\"1\" class=\"dataframe\">\n",
       "  <thead>\n",
       "    <tr style=\"text-align: right;\">\n",
       "      <th></th>\n",
       "      <th>danceability</th>\n",
       "      <th>energy</th>\n",
       "      <th>key</th>\n",
       "      <th>loudness</th>\n",
       "      <th>mode</th>\n",
       "      <th>speechiness</th>\n",
       "      <th>acousticness</th>\n",
       "      <th>instrumentalness</th>\n",
       "      <th>liveness</th>\n",
       "      <th>valence</th>\n",
       "      <th>tempo</th>\n",
       "      <th>type</th>\n",
       "      <th>id</th>\n",
       "      <th>uri</th>\n",
       "      <th>track_href</th>\n",
       "      <th>analysis_url</th>\n",
       "      <th>duration_ms</th>\n",
       "      <th>time_signature</th>\n",
       "      <th>ETL_DTTM</th>\n",
       "    </tr>\n",
       "  </thead>\n",
       "  <tbody>\n",
       "    <tr>\n",
       "      <th>0</th>\n",
       "      <td>0.754</td>\n",
       "      <td>0.763</td>\n",
       "      <td>1</td>\n",
       "      <td>-6.57</td>\n",
       "      <td>1</td>\n",
       "      <td>0.295</td>\n",
       "      <td>0.32</td>\n",
       "      <td>0.0</td>\n",
       "      <td>0.143</td>\n",
       "      <td>0.704</td>\n",
       "      <td>159.963</td>\n",
       "      <td>audio_features</td>\n",
       "      <td>5ZcmLAogrj4HF8Odrz9XA2</td>\n",
       "      <td>spotify:track:5ZcmLAogrj4HF8Odrz9XA2</td>\n",
       "      <td>https://api.spotify.com/v1/tracks/5ZcmLAogrj4H...</td>\n",
       "      <td>https://api.spotify.com/v1/audio-analysis/5Zcm...</td>\n",
       "      <td>265693</td>\n",
       "      <td>3</td>\n",
       "      <td>2021-02-04, 23:13:23</td>\n",
       "    </tr>\n",
       "  </tbody>\n",
       "</table>\n",
       "</div>"
      ],
      "text/plain": [
       "   danceability  energy  key  loudness  mode  speechiness  acousticness  \\\n",
       "0         0.754   0.763    1     -6.57     1        0.295          0.32   \n",
       "\n",
       "   instrumentalness  liveness  valence    tempo            type  \\\n",
       "0               0.0     0.143    0.704  159.963  audio_features   \n",
       "\n",
       "                       id                                   uri  \\\n",
       "0  5ZcmLAogrj4HF8Odrz9XA2  spotify:track:5ZcmLAogrj4HF8Odrz9XA2   \n",
       "\n",
       "                                          track_href  \\\n",
       "0  https://api.spotify.com/v1/tracks/5ZcmLAogrj4H...   \n",
       "\n",
       "                                        analysis_url  duration_ms  \\\n",
       "0  https://api.spotify.com/v1/audio-analysis/5Zcm...       265693   \n",
       "\n",
       "   time_signature              ETL_DTTM  \n",
       "0               3  2021-02-04, 23:13:23  "
      ]
     },
     "execution_count": 5,
     "metadata": {},
     "output_type": "execute_result"
    }
   ],
   "source": [
    "df_features.head(1)"
   ]
  },
  {
   "cell_type": "markdown",
   "metadata": {},
   "source": [
    "The final query merges the data from the 3 tables into one master table, removing any potential duplicate records. If the same song was played over multiple days, there would be many."
   ]
  },
  {
   "cell_type": "code",
   "execution_count": 6,
   "metadata": {},
   "outputs": [],
   "source": [
    "merged_query = \"\"\"\n",
    "SELECT DISTINCT sh.spotify_id\n",
    "    ,sh.uri\n",
    "    ,sh.song_name\n",
    "    ,sh.artist_name\n",
    "    ,sh.artist_uri\n",
    "    ,sh.played_at\n",
    "    ,sh.date\n",
    "    ,ETL_DTTM\n",
    "    ,g.genres\n",
    "    ,g.popularity\n",
    "    ,sf.*\n",
    "FROM streaming_history sh \n",
    "LEFT JOIN (SELECT DISTINCT *\n",
    "    FROM (SELECT DISTINCT artist_id \n",
    "                ,artist_name\n",
    "                ,genres\n",
    "                ,popularity\n",
    "                ,row_number() over (partition by artist_id order by artist_id, ETL_DTTM) as dup\n",
    "            FROM genres)\n",
    "    WHERE dup = 1) g\n",
    "ON sh.artist_uri = g.artist_id\n",
    "LEFT JOIN (SELECT DISTINCT id -- spotify track id\n",
    "    ,danceability\n",
    "    ,energy\n",
    "    ,\"key\"\n",
    "    ,loudness\n",
    "    ,mode\n",
    "    ,speechiness\n",
    "    ,acousticness\n",
    "    ,instrumentalness\n",
    "    ,liveness\n",
    "    ,valence\n",
    "    ,tempo\n",
    "    ,duration_ms\n",
    "    ,time_signature\n",
    "FROM song_features) sf\n",
    "ON sh.spotify_id = sf.id\n",
    "order by played_at\n",
    "\"\"\"\n",
    "\n",
    "df_spotify = pd.read_sql_query(merged_query, conn)"
   ]
  },
  {
   "cell_type": "code",
   "execution_count": 7,
   "metadata": {},
   "outputs": [
    {
     "data": {
      "text/html": [
       "<div>\n",
       "<style scoped>\n",
       "    .dataframe tbody tr th:only-of-type {\n",
       "        vertical-align: middle;\n",
       "    }\n",
       "\n",
       "    .dataframe tbody tr th {\n",
       "        vertical-align: top;\n",
       "    }\n",
       "\n",
       "    .dataframe thead th {\n",
       "        text-align: right;\n",
       "    }\n",
       "</style>\n",
       "<table border=\"1\" class=\"dataframe\">\n",
       "  <thead>\n",
       "    <tr style=\"text-align: right;\">\n",
       "      <th></th>\n",
       "      <th>spotify_id</th>\n",
       "      <th>uri</th>\n",
       "      <th>song_name</th>\n",
       "      <th>artist_name</th>\n",
       "      <th>artist_uri</th>\n",
       "      <th>played_at</th>\n",
       "      <th>date</th>\n",
       "      <th>ETL_DTTM</th>\n",
       "      <th>genres</th>\n",
       "      <th>popularity</th>\n",
       "      <th>...</th>\n",
       "      <th>loudness</th>\n",
       "      <th>mode</th>\n",
       "      <th>speechiness</th>\n",
       "      <th>acousticness</th>\n",
       "      <th>instrumentalness</th>\n",
       "      <th>liveness</th>\n",
       "      <th>valence</th>\n",
       "      <th>tempo</th>\n",
       "      <th>duration_ms</th>\n",
       "      <th>time_signature</th>\n",
       "    </tr>\n",
       "  </thead>\n",
       "  <tbody>\n",
       "    <tr>\n",
       "      <th>4423</th>\n",
       "      <td>4aaEROAXVunrYjS556YxAn</td>\n",
       "      <td>spotify:track:4aaEROAXVunrYjS556YxAn</td>\n",
       "      <td>Corn</td>\n",
       "      <td>2smokeyy</td>\n",
       "      <td>4MUA591QaNW7xiMlMgBJV2</td>\n",
       "      <td>2021-09-30 14:59:58.618000</td>\n",
       "      <td>2021-09-30</td>\n",
       "      <td>2021-10-01, 00:05:06</td>\n",
       "      <td>['uk drill']</td>\n",
       "      <td>59.0</td>\n",
       "      <td>...</td>\n",
       "      <td>-8.516</td>\n",
       "      <td>0.0</td>\n",
       "      <td>0.386</td>\n",
       "      <td>0.1630</td>\n",
       "      <td>0.0</td>\n",
       "      <td>0.5720</td>\n",
       "      <td>0.862</td>\n",
       "      <td>143.064</td>\n",
       "      <td>201399.0</td>\n",
       "      <td>4.0</td>\n",
       "    </tr>\n",
       "    <tr>\n",
       "      <th>4424</th>\n",
       "      <td>1pfZ8IYPDEjvdrllsYBgEC</td>\n",
       "      <td>spotify:track:1pfZ8IYPDEjvdrllsYBgEC</td>\n",
       "      <td>Meant To Be (feat. Fredo &amp; Central Cee)</td>\n",
       "      <td>Stay Flee Get Lizzy</td>\n",
       "      <td>2oZq6t5DkE2BdGbD6x8RXh</td>\n",
       "      <td>2021-09-30 16:54:40.106000</td>\n",
       "      <td>2021-09-30</td>\n",
       "      <td>2021-10-01, 00:05:06</td>\n",
       "      <td>['uk hip hop']</td>\n",
       "      <td>51.0</td>\n",
       "      <td>...</td>\n",
       "      <td>-5.215</td>\n",
       "      <td>0.0</td>\n",
       "      <td>0.283</td>\n",
       "      <td>0.0813</td>\n",
       "      <td>0.0</td>\n",
       "      <td>0.2530</td>\n",
       "      <td>0.649</td>\n",
       "      <td>141.995</td>\n",
       "      <td>189600.0</td>\n",
       "      <td>4.0</td>\n",
       "    </tr>\n",
       "    <tr>\n",
       "      <th>4425</th>\n",
       "      <td>6uvMKqNlrSvcC4NaKnrwjZ</td>\n",
       "      <td>spotify:track:6uvMKqNlrSvcC4NaKnrwjZ</td>\n",
       "      <td>Body (Remix) [feat. ArrDee, E1 (3x3), ZT (3x3)...</td>\n",
       "      <td>Tion Wayne</td>\n",
       "      <td>7b79bQFziJFedJb75k6hFt</td>\n",
       "      <td>2021-09-30 16:59:18.384000</td>\n",
       "      <td>2021-09-30</td>\n",
       "      <td>2021-10-01, 00:05:06</td>\n",
       "      <td>['london rap', 'uk hip hop']</td>\n",
       "      <td>81.0</td>\n",
       "      <td>...</td>\n",
       "      <td>-8.043</td>\n",
       "      <td>0.0</td>\n",
       "      <td>0.357</td>\n",
       "      <td>0.2100</td>\n",
       "      <td>0.0</td>\n",
       "      <td>0.0678</td>\n",
       "      <td>0.730</td>\n",
       "      <td>141.020</td>\n",
       "      <td>278085.0</td>\n",
       "      <td>4.0</td>\n",
       "    </tr>\n",
       "    <tr>\n",
       "      <th>4426</th>\n",
       "      <td>3XXWrQc7BSzW1NPq1hiHsu</td>\n",
       "      <td>spotify:track:3XXWrQc7BSzW1NPq1hiHsu</td>\n",
       "      <td>Wandsworth to Bullingdon (feat. Headie One)</td>\n",
       "      <td>Fredo</td>\n",
       "      <td>3rbtPd0NcvhO2AzMfzx90z</td>\n",
       "      <td>2021-09-30 17:01:44.673000</td>\n",
       "      <td>2021-09-30</td>\n",
       "      <td>2021-10-01, 00:05:06</td>\n",
       "      <td>['uk hip hop']</td>\n",
       "      <td>76.0</td>\n",
       "      <td>...</td>\n",
       "      <td>-5.063</td>\n",
       "      <td>1.0</td>\n",
       "      <td>0.304</td>\n",
       "      <td>0.4980</td>\n",
       "      <td>0.0</td>\n",
       "      <td>0.2180</td>\n",
       "      <td>0.781</td>\n",
       "      <td>120.882</td>\n",
       "      <td>145350.0</td>\n",
       "      <td>4.0</td>\n",
       "    </tr>\n",
       "    <tr>\n",
       "      <th>4427</th>\n",
       "      <td>5Mm9SomFR8RZDPTsLiiTtD</td>\n",
       "      <td>spotify:track:5Mm9SomFR8RZDPTsLiiTtD</td>\n",
       "      <td>Justin Bieber</td>\n",
       "      <td>B Young</td>\n",
       "      <td>7JMwO9tyFPMsb2KnsJqZlp</td>\n",
       "      <td>2021-09-30 17:06:06.256000</td>\n",
       "      <td>2021-09-30</td>\n",
       "      <td>2021-10-01, 00:05:06</td>\n",
       "      <td>['afroswing', 'london rap', 'uk hip hop']</td>\n",
       "      <td>68.0</td>\n",
       "      <td>...</td>\n",
       "      <td>-5.759</td>\n",
       "      <td>0.0</td>\n",
       "      <td>0.134</td>\n",
       "      <td>0.0604</td>\n",
       "      <td>0.0</td>\n",
       "      <td>0.1370</td>\n",
       "      <td>0.620</td>\n",
       "      <td>126.630</td>\n",
       "      <td>180373.0</td>\n",
       "      <td>5.0</td>\n",
       "    </tr>\n",
       "  </tbody>\n",
       "</table>\n",
       "<p>5 rows × 24 columns</p>\n",
       "</div>"
      ],
      "text/plain": [
       "                  spotify_id                                   uri  \\\n",
       "4423  4aaEROAXVunrYjS556YxAn  spotify:track:4aaEROAXVunrYjS556YxAn   \n",
       "4424  1pfZ8IYPDEjvdrllsYBgEC  spotify:track:1pfZ8IYPDEjvdrllsYBgEC   \n",
       "4425  6uvMKqNlrSvcC4NaKnrwjZ  spotify:track:6uvMKqNlrSvcC4NaKnrwjZ   \n",
       "4426  3XXWrQc7BSzW1NPq1hiHsu  spotify:track:3XXWrQc7BSzW1NPq1hiHsu   \n",
       "4427  5Mm9SomFR8RZDPTsLiiTtD  spotify:track:5Mm9SomFR8RZDPTsLiiTtD   \n",
       "\n",
       "                                              song_name          artist_name  \\\n",
       "4423                                               Corn             2smokeyy   \n",
       "4424            Meant To Be (feat. Fredo & Central Cee)  Stay Flee Get Lizzy   \n",
       "4425  Body (Remix) [feat. ArrDee, E1 (3x3), ZT (3x3)...           Tion Wayne   \n",
       "4426        Wandsworth to Bullingdon (feat. Headie One)                Fredo   \n",
       "4427                                      Justin Bieber              B Young   \n",
       "\n",
       "                  artist_uri                   played_at        date  \\\n",
       "4423  4MUA591QaNW7xiMlMgBJV2  2021-09-30 14:59:58.618000  2021-09-30   \n",
       "4424  2oZq6t5DkE2BdGbD6x8RXh  2021-09-30 16:54:40.106000  2021-09-30   \n",
       "4425  7b79bQFziJFedJb75k6hFt  2021-09-30 16:59:18.384000  2021-09-30   \n",
       "4426  3rbtPd0NcvhO2AzMfzx90z  2021-09-30 17:01:44.673000  2021-09-30   \n",
       "4427  7JMwO9tyFPMsb2KnsJqZlp  2021-09-30 17:06:06.256000  2021-09-30   \n",
       "\n",
       "                  ETL_DTTM                                     genres  \\\n",
       "4423  2021-10-01, 00:05:06                               ['uk drill']   \n",
       "4424  2021-10-01, 00:05:06                             ['uk hip hop']   \n",
       "4425  2021-10-01, 00:05:06               ['london rap', 'uk hip hop']   \n",
       "4426  2021-10-01, 00:05:06                             ['uk hip hop']   \n",
       "4427  2021-10-01, 00:05:06  ['afroswing', 'london rap', 'uk hip hop']   \n",
       "\n",
       "      popularity  ... loudness  mode  speechiness  acousticness  \\\n",
       "4423        59.0  ...   -8.516   0.0        0.386        0.1630   \n",
       "4424        51.0  ...   -5.215   0.0        0.283        0.0813   \n",
       "4425        81.0  ...   -8.043   0.0        0.357        0.2100   \n",
       "4426        76.0  ...   -5.063   1.0        0.304        0.4980   \n",
       "4427        68.0  ...   -5.759   0.0        0.134        0.0604   \n",
       "\n",
       "      instrumentalness  liveness  valence    tempo  duration_ms  \\\n",
       "4423               0.0    0.5720    0.862  143.064     201399.0   \n",
       "4424               0.0    0.2530    0.649  141.995     189600.0   \n",
       "4425               0.0    0.0678    0.730  141.020     278085.0   \n",
       "4426               0.0    0.2180    0.781  120.882     145350.0   \n",
       "4427               0.0    0.1370    0.620  126.630     180373.0   \n",
       "\n",
       "      time_signature  \n",
       "4423             4.0  \n",
       "4424             4.0  \n",
       "4425             4.0  \n",
       "4426             4.0  \n",
       "4427             5.0  \n",
       "\n",
       "[5 rows x 24 columns]"
      ]
     },
     "execution_count": 7,
     "metadata": {},
     "output_type": "execute_result"
    }
   ],
   "source": [
    "df_spotify.tail()"
   ]
  },
  {
   "cell_type": "markdown",
   "metadata": {},
   "source": [
    "## EDA & Data Cleaning"
   ]
  },
  {
   "cell_type": "code",
   "execution_count": 8,
   "metadata": {},
   "outputs": [
    {
     "name": "stdout",
     "output_type": "stream",
     "text": [
      "Total number of songs streamed:  4428\n",
      "Number of unique songs:  1105\n",
      "Number of unique artists:  416\n"
     ]
    }
   ],
   "source": [
    "print(\"Total number of songs streamed: \", len(df_spotify))\n",
    "print(\"Number of unique songs: \", len(df_spotify.spotify_id.unique()))\n",
    "print(\"Number of unique artists: \", len(df_spotify.artist_uri.unique()))"
   ]
  },
  {
   "cell_type": "code",
   "execution_count": 9,
   "metadata": {},
   "outputs": [
    {
     "data": {
      "text/plain": [
       "spotify_id           object\n",
       "uri                  object\n",
       "song_name            object\n",
       "artist_name          object\n",
       "artist_uri           object\n",
       "played_at            object\n",
       "date                 object\n",
       "ETL_DTTM             object\n",
       "genres               object\n",
       "popularity          float64\n",
       "id                   object\n",
       "danceability        float64\n",
       "energy              float64\n",
       "key                 float64\n",
       "loudness            float64\n",
       "mode                float64\n",
       "speechiness         float64\n",
       "acousticness        float64\n",
       "instrumentalness    float64\n",
       "liveness            float64\n",
       "valence             float64\n",
       "tempo               float64\n",
       "duration_ms         float64\n",
       "time_signature      float64\n",
       "dtype: object"
      ]
     },
     "execution_count": 9,
     "metadata": {},
     "output_type": "execute_result"
    }
   ],
   "source": [
    "df_spotify.dtypes"
   ]
  },
  {
   "cell_type": "code",
   "execution_count": 10,
   "metadata": {},
   "outputs": [
    {
     "data": {
      "text/plain": [
       "\"['belgian dance', 'belgian edm', 'big room', 'dance pop', 'edm', 'electro house', 'pop dance', 'progressive electro house', 'tropical house']\""
      ]
     },
     "execution_count": 10,
     "metadata": {},
     "output_type": "execute_result"
    }
   ],
   "source": [
    "df_spotify['genres'].values[4362]"
   ]
  },
  {
   "cell_type": "markdown",
   "metadata": {},
   "source": [
    "We see that the genres column appears to be a list at first glance, but is not actually in a list format:"
   ]
  },
  {
   "cell_type": "code",
   "execution_count": 11,
   "metadata": {},
   "outputs": [
    {
     "data": {
      "text/plain": [
       "'['"
      ]
     },
     "execution_count": 11,
     "metadata": {},
     "output_type": "execute_result"
    }
   ],
   "source": [
    "df_spotify['genres'].values[4362][0]"
   ]
  },
  {
   "cell_type": "markdown",
   "metadata": {},
   "source": [
    "To fix this, a Regular Expression (regex) statement will be used to return a list for each genre. For records without a genre, an empty list will be input."
   ]
  },
  {
   "cell_type": "code",
   "execution_count": 12,
   "metadata": {},
   "outputs": [],
   "source": [
    "df_spotify['genres'] = df_spotify['genres'].fillna('[]').apply(lambda x: [re.sub(' ', '_', i) for i in re.findall(r\"'([^']*)'\", x)])"
   ]
  },
  {
   "cell_type": "code",
   "execution_count": 13,
   "metadata": {},
   "outputs": [
    {
     "data": {
      "text/plain": [
       "'belgian_dance'"
      ]
     },
     "execution_count": 13,
     "metadata": {},
     "output_type": "execute_result"
    }
   ],
   "source": [
    "df_spotify['genres'].values[4362][0]"
   ]
  },
  {
   "cell_type": "code",
   "execution_count": 14,
   "metadata": {},
   "outputs": [],
   "source": [
    "# create list of columns which are numeric\n",
    "num = df_spotify.select_dtypes(include=np.number)\n",
    "column_list = num.columns.to_list()"
   ]
  },
  {
   "cell_type": "markdown",
   "metadata": {},
   "source": [
    "At this point I would like to visualize the distribution of the many data points available. Some knowledge of key attributes may help with model building later on. "
   ]
  },
  {
   "cell_type": "code",
   "execution_count": 15,
   "metadata": {},
   "outputs": [
    {
     "name": "stderr",
     "output_type": "stream",
     "text": [
      "C:\\Users\\vijay\\anaconda3\\lib\\site-packages\\seaborn\\distributions.py:2551: FutureWarning: `distplot` is a deprecated function and will be removed in a future version. Please adapt your code to use either `displot` (a figure-level function with similar flexibility) or `histplot` (an axes-level function for histograms).\n",
      "  warnings.warn(msg, FutureWarning)\n"
     ]
    },
    {
     "data": {
      "image/png": "[encoded data removed]",
      "text/plain": [
       "<Figure size 1080x720 with 16 Axes>"
      ]
     },
     "metadata": {},
     "output_type": "display_data"
    }
   ],
   "source": [
    "sns.set(style=\"white\", palette=\"muted\", color_codes=True)\n",
    "\n",
    "fig, axes = plt.subplots(4, 4, figsize=(15, 10), sharex=False)\n",
    "sns.despine(right=True)\n",
    "\n",
    "sns.distplot(df_spotify['duration_ms'], kde=False, bins=30, ax=axes[0, 0], color=\"m\")\n",
    "sns.distplot(df_spotify['popularity'], kde=False, bins=30, ax=axes[0, 1], color=\"m\")\n",
    "sns.distplot(df_spotify['danceability'], kde=False, bins=30, ax=axes[0, 2], color=\"m\")\n",
    "sns.distplot(df_spotify['energy'], kde=False, bins=30, ax=axes[0, 3], color=\"m\")\n",
    "\n",
    "sns.distplot(df_spotify['key'], kde=False, bins=30, ax=axes[1, 0], color=\"r\")\n",
    "sns.distplot(df_spotify['loudness'], kde=False, bins=30, ax=axes[1, 1], color=\"r\")\n",
    "sns.distplot(df_spotify['mode'], kde=False, bins=30, ax=axes[1, 2], color=\"r\")\n",
    "sns.distplot(df_spotify['speechiness'], kde=False, bins=30, ax=axes[1, 3], color=\"r\")\n",
    "\n",
    "sns.distplot(df_spotify['acousticness'], kde=False, bins=30, ax=axes[2, 0], color=\"g\")\n",
    "sns.distplot(df_spotify['instrumentalness'], kde=False, bins=30, ax=axes[2, 1], color=\"g\")\n",
    "sns.distplot(df_spotify['liveness'], kde=False, bins=30, ax=axes[2, 2], color=\"g\")\n",
    "sns.distplot(df_spotify['valence'], kde=False, bins=30, ax=axes[2, 3], color=\"g\")\n",
    "\n",
    "sns.distplot(df_spotify['tempo'], kde=False, bins=30, ax=axes[3, 0])\n",
    "sns.distplot(df_spotify['time_signature'], kde=False, bins=15, ax=axes[3, 1])\n",
    "sns.distplot(df_spotify['duration_ms']//60000, kde=False, bins=15, ax=axes[3, 2]).set_xlabel('duration_min')\n",
    "#sns.distplot(df_spotify['valence'], kde=False, bins=30, ax=axes[3, 3])\n",
    "\n",
    "plt.suptitle('Distribution of Song Features', fontsize=25)\n",
    "plt.tight_layout()"
   ]
  },
  {
   "cell_type": "markdown",
   "metadata": {},
   "source": [
    "Below we can see that the majority of tracks were played less than 10 times (frequency)."
   ]
  },
  {
   "cell_type": "code",
   "execution_count": 23,
   "metadata": {},
   "outputs": [],
   "source": [
    "playback_count = df_spotify.groupby(['song_name', 'artist_name']).size().to_frame('count').sort_values(['count'], ascending=False).reset_index()"
   ]
  },
  {
   "cell_type": "code",
   "execution_count": 38,
   "metadata": {},
   "outputs": [
    {
     "data": {
      "text/plain": [
       "Text(0.5, 1.0, 'Distribution of Song Playback Frequency')"
      ]
     },
     "execution_count": 38,
     "metadata": {},
     "output_type": "execute_result"
    },
    {
     "data": {
      "image/png": "[encoded data removed]",
      "text/plain": [
       "<Figure size 432x288 with 1 Axes>"
      ]
     },
     "metadata": {},
     "output_type": "display_data"
    }
   ],
   "source": [
    "sns.histplot(playback_count['count'], bins=10).set(xlim=(0,40))\n",
    "plt.xlabel('Song Playback Count')\n",
    "plt.ylabel('Count')\n",
    "plt.title('Distribution of Song Playback Frequency')\n",
    "\n",
    "# ax = playback_count.plot(kind='hist', bins=9)\n",
    "# ax.set_xlim(0,40)\n",
    "# ax.set_title(\"Distribution of Playback Frequency\")"
   ]
  },
  {
   "cell_type": "markdown",
   "metadata": {},
   "source": [
    "to do:\n",
    "- what variable are you trying to predict?\n",
    "- which variables are needed for a prediction?"
   ]
  },
  {
   "cell_type": "code",
   "execution_count": 37,
   "metadata": {},
   "outputs": [
    {
     "data": {
      "text/html": [
       "<div>\n",
       "<style scoped>\n",
       "    .dataframe tbody tr th:only-of-type {\n",
       "        vertical-align: middle;\n",
       "    }\n",
       "\n",
       "    .dataframe tbody tr th {\n",
       "        vertical-align: top;\n",
       "    }\n",
       "\n",
       "    .dataframe thead th {\n",
       "        text-align: right;\n",
       "    }\n",
       "</style>\n",
       "<table border=\"1\" class=\"dataframe\">\n",
       "  <thead>\n",
       "    <tr style=\"text-align: right;\">\n",
       "      <th></th>\n",
       "      <th>song_name</th>\n",
       "      <th>artist_name</th>\n",
       "      <th>count</th>\n",
       "    </tr>\n",
       "  </thead>\n",
       "  <tbody>\n",
       "    <tr>\n",
       "      <th>97</th>\n",
       "      <td>My Business (feat. Future)</td>\n",
       "      <td>NAV</td>\n",
       "      <td>10</td>\n",
       "    </tr>\n",
       "    <tr>\n",
       "      <th>98</th>\n",
       "      <td>Boheme</td>\n",
       "      <td>Nebezao</td>\n",
       "      <td>10</td>\n",
       "    </tr>\n",
       "    <tr>\n",
       "      <th>99</th>\n",
       "      <td>Sin Contrato (feat. Don Omar &amp; Wisin) - Remix</td>\n",
       "      <td>Maluma</td>\n",
       "      <td>10</td>\n",
       "    </tr>\n",
       "    <tr>\n",
       "      <th>100</th>\n",
       "      <td>F.W.T.S / Active</td>\n",
       "      <td>Krept &amp; Konan</td>\n",
       "      <td>10</td>\n",
       "    </tr>\n",
       "    <tr>\n",
       "      <th>101</th>\n",
       "      <td>Esmeralda Type</td>\n",
       "      <td>UCLÃ</td>\n",
       "      <td>10</td>\n",
       "    </tr>\n",
       "    <tr>\n",
       "      <th>...</th>\n",
       "      <td>...</td>\n",
       "      <td>...</td>\n",
       "      <td>...</td>\n",
       "    </tr>\n",
       "    <tr>\n",
       "      <th>1080</th>\n",
       "      <td>I'm Okay</td>\n",
       "      <td>Night Lovell</td>\n",
       "      <td>1</td>\n",
       "    </tr>\n",
       "    <tr>\n",
       "      <th>1081</th>\n",
       "      <td>Ice</td>\n",
       "      <td>Vegas Jones</td>\n",
       "      <td>1</td>\n",
       "    </tr>\n",
       "    <tr>\n",
       "      <th>1082</th>\n",
       "      <td>If Only</td>\n",
       "      <td>Unisoner</td>\n",
       "      <td>1</td>\n",
       "    </tr>\n",
       "    <tr>\n",
       "      <th>1083</th>\n",
       "      <td>Il Viaggio</td>\n",
       "      <td>Vegas Jones</td>\n",
       "      <td>1</td>\n",
       "    </tr>\n",
       "    <tr>\n",
       "      <th>1084</th>\n",
       "      <td>دكابوطابل</td>\n",
       "      <td>Zouhair Bahaoui</td>\n",
       "      <td>1</td>\n",
       "    </tr>\n",
       "  </tbody>\n",
       "</table>\n",
       "<p>988 rows × 3 columns</p>\n",
       "</div>"
      ],
      "text/plain": [
       "                                          song_name      artist_name  count\n",
       "97                       My Business (feat. Future)              NAV     10\n",
       "98                                           Boheme          Nebezao     10\n",
       "99    Sin Contrato (feat. Don Omar & Wisin) - Remix           Maluma     10\n",
       "100                                F.W.T.S / Active    Krept & Konan     10\n",
       "101                                  Esmeralda Type             UCLÃ     10\n",
       "...                                             ...              ...    ...\n",
       "1080                                       I'm Okay     Night Lovell      1\n",
       "1081                                            Ice      Vegas Jones      1\n",
       "1082                                        If Only         Unisoner      1\n",
       "1083                                     Il Viaggio      Vegas Jones      1\n",
       "1084                                      دكابوطابل  Zouhair Bahaoui      1\n",
       "\n",
       "[988 rows x 3 columns]"
      ]
     },
     "execution_count": 37,
     "metadata": {},
     "output_type": "execute_result"
    }
   ],
   "source": [
    "playback_count[playback_count['count']<=10]"
   ]
  },
  {
   "cell_type": "code",
   "execution_count": null,
   "metadata": {},
   "outputs": [],
   "source": []
  }
 ],
 "metadata": {
  "kernelspec": {
   "display_name": "Python 3",
   "language": "python",
   "name": "python3"
  },
  "language_info": {
   "codemirror_mode": {
    "name": "ipython",
    "version": 3
   },
   "file_extension": ".py",
   "mimetype": "text/x-python",
   "name": "python",
   "nbconvert_exporter": "python",
   "pygments_lexer": "ipython3",
   "version": "3.8.5"
  }
 },
 "nbformat": 4,
 "nbformat_minor": 4
}
