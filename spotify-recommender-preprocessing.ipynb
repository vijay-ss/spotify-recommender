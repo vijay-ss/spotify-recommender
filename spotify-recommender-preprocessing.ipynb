{
 "cells": [
  {
   "cell_type": "markdown",
   "metadata": {},
   "source": [
    "# Spotify Recommender Part 1 - Data Preprocessing"
   ]
  },
  {
   "cell_type": "markdown",
   "metadata": {},
   "source": [
    "To do:\n",
    "- check API reference for additional data that can be pulled in for artist/genres\n",
    "- join data via sql\n",
    "- clean data"
   ]
  },
  {
   "cell_type": "code",
   "execution_count": 1,
   "metadata": {},
   "outputs": [],
   "source": [
    "import os\n",
    "import re\n",
    "import pandas as pd\n",
    "import numpy as np\n",
    "import sqlite3\n",
    "\n",
    "import seaborn as sns\n",
    "import matplotlib.pyplot as plt\n",
    "%matplotlib inline\n",
    "plt.rcParams['figure.figsize'] = [6, 2]\n",
    "\n",
    "from secrets import SPOTIFY_HISTORY_DB"
   ]
  },
  {
   "cell_type": "markdown",
   "metadata": {},
   "source": [
    "## Import Data"
   ]
  },
  {
   "cell_type": "markdown",
   "metadata": {},
   "source": [
    "First we setup the connection to the SQL DB which contains 3 tables:\n",
    "- **streaming_history**: each song listened to starting 02-01-2021\n",
    "- **genres**: each of the artists from streaming_history, tagged with their corresponding genre\n",
    "- **song_features**: each track from streaming_history, with details at the song level \n",
    "    - details include corresponding track values (liveness, tempo, valence etc.)"
   ]
  },
  {
   "cell_type": "code",
   "execution_count": 2,
   "metadata": {},
   "outputs": [],
   "source": [
    "conn = sqlite3.connect(SPOTIFY_HISTORY_DB)\n",
    "\n",
    "df_sh = pd.read_sql_query(\"SELECT * FROM streaming_history\", conn)\n",
    "df_genres = pd.read_sql_query(\"SELECT * FROM genres\", conn)\n",
    "df_features = pd.read_sql_query(\"SELECT * FROM song_features\", conn)"
   ]
  },
  {
   "cell_type": "code",
   "execution_count": 3,
   "metadata": {},
   "outputs": [
    {
     "data": {
      "text/html": [
       "<div>\n",
       "<style scoped>\n",
       "    .dataframe tbody tr th:only-of-type {\n",
       "        vertical-align: middle;\n",
       "    }\n",
       "\n",
       "    .dataframe tbody tr th {\n",
       "        vertical-align: top;\n",
       "    }\n",
       "\n",
       "    .dataframe thead th {\n",
       "        text-align: right;\n",
       "    }\n",
       "</style>\n",
       "<table border=\"1\" class=\"dataframe\">\n",
       "  <thead>\n",
       "    <tr style=\"text-align: right;\">\n",
       "      <th></th>\n",
       "      <th>spotify_id</th>\n",
       "      <th>uri</th>\n",
       "      <th>song_name</th>\n",
       "      <th>artist_name</th>\n",
       "      <th>played_at</th>\n",
       "      <th>duration_ms</th>\n",
       "      <th>date</th>\n",
       "      <th>ETL_DTTM</th>\n",
       "      <th>artist_uri</th>\n",
       "    </tr>\n",
       "  </thead>\n",
       "  <tbody>\n",
       "    <tr>\n",
       "      <th>4416</th>\n",
       "      <td>7Job3nRhEmatrhyeAOEUrw</td>\n",
       "      <td>spotify:track:7Job3nRhEmatrhyeAOEUrw</td>\n",
       "      <td>Angels (ASOT 1034) - Scorz Remix</td>\n",
       "      <td>Armin van Buuren</td>\n",
       "      <td>2021-09-29 07:53:39.057000</td>\n",
       "      <td>157123</td>\n",
       "      <td>2021-09-29</td>\n",
       "      <td>2021-09-30, 01:58:43</td>\n",
       "      <td>0SfsnGyD8FpIN4U4WCkBZ5</td>\n",
       "    </tr>\n",
       "  </tbody>\n",
       "</table>\n",
       "</div>"
      ],
      "text/plain": [
       "                  spotify_id                                   uri  \\\n",
       "4416  7Job3nRhEmatrhyeAOEUrw  spotify:track:7Job3nRhEmatrhyeAOEUrw   \n",
       "\n",
       "                             song_name       artist_name  \\\n",
       "4416  Angels (ASOT 1034) - Scorz Remix  Armin van Buuren   \n",
       "\n",
       "                       played_at  duration_ms        date  \\\n",
       "4416  2021-09-29 07:53:39.057000       157123  2021-09-29   \n",
       "\n",
       "                  ETL_DTTM              artist_uri  \n",
       "4416  2021-09-30, 01:58:43  0SfsnGyD8FpIN4U4WCkBZ5  "
      ]
     },
     "execution_count": 3,
     "metadata": {},
     "output_type": "execute_result"
    }
   ],
   "source": [
    "df_sh.tail(1)"
   ]
  },
  {
   "cell_type": "code",
   "execution_count": 4,
   "metadata": {},
   "outputs": [
    {
     "data": {
      "text/html": [
       "<div>\n",
       "<style scoped>\n",
       "    .dataframe tbody tr th:only-of-type {\n",
       "        vertical-align: middle;\n",
       "    }\n",
       "\n",
       "    .dataframe tbody tr th {\n",
       "        vertical-align: top;\n",
       "    }\n",
       "\n",
       "    .dataframe thead th {\n",
       "        text-align: right;\n",
       "    }\n",
       "</style>\n",
       "<table border=\"1\" class=\"dataframe\">\n",
       "  <thead>\n",
       "    <tr style=\"text-align: right;\">\n",
       "      <th></th>\n",
       "      <th>spotify_url</th>\n",
       "      <th>total_followers</th>\n",
       "      <th>genres</th>\n",
       "      <th>artist_id</th>\n",
       "      <th>artist_name</th>\n",
       "      <th>popularity</th>\n",
       "      <th>uri</th>\n",
       "      <th>ETL_DTTM</th>\n",
       "    </tr>\n",
       "  </thead>\n",
       "  <tbody>\n",
       "    <tr>\n",
       "      <th>0</th>\n",
       "      <td>https://open.spotify.com/artist/3SFVIUlipGj3Rp...</td>\n",
       "      <td>48610</td>\n",
       "      <td>['bass trap', 'traprun']</td>\n",
       "      <td>3SFVIUlipGj3RpWCKe9s73</td>\n",
       "      <td>Lox Chatterbox</td>\n",
       "      <td>58</td>\n",
       "      <td>spotify:artist:3SFVIUlipGj3RpWCKe9s73</td>\n",
       "      <td>2021-02-14, 09:25:59</td>\n",
       "    </tr>\n",
       "  </tbody>\n",
       "</table>\n",
       "</div>"
      ],
      "text/plain": [
       "                                         spotify_url  total_followers  \\\n",
       "0  https://open.spotify.com/artist/3SFVIUlipGj3Rp...            48610   \n",
       "\n",
       "                     genres               artist_id     artist_name  \\\n",
       "0  ['bass trap', 'traprun']  3SFVIUlipGj3RpWCKe9s73  Lox Chatterbox   \n",
       "\n",
       "   popularity                                    uri              ETL_DTTM  \n",
       "0          58  spotify:artist:3SFVIUlipGj3RpWCKe9s73  2021-02-14, 09:25:59  "
      ]
     },
     "execution_count": 4,
     "metadata": {},
     "output_type": "execute_result"
    }
   ],
   "source": [
    "df_genres.head(1)"
   ]
  },
  {
   "cell_type": "code",
   "execution_count": 5,
   "metadata": {},
   "outputs": [
    {
     "data": {
      "text/html": [
       "<div>\n",
       "<style scoped>\n",
       "    .dataframe tbody tr th:only-of-type {\n",
       "        vertical-align: middle;\n",
       "    }\n",
       "\n",
       "    .dataframe tbody tr th {\n",
       "        vertical-align: top;\n",
       "    }\n",
       "\n",
       "    .dataframe thead th {\n",
       "        text-align: right;\n",
       "    }\n",
       "</style>\n",
       "<table border=\"1\" class=\"dataframe\">\n",
       "  <thead>\n",
       "    <tr style=\"text-align: right;\">\n",
       "      <th></th>\n",
       "      <th>danceability</th>\n",
       "      <th>energy</th>\n",
       "      <th>key</th>\n",
       "      <th>loudness</th>\n",
       "      <th>mode</th>\n",
       "      <th>speechiness</th>\n",
       "      <th>acousticness</th>\n",
       "      <th>instrumentalness</th>\n",
       "      <th>liveness</th>\n",
       "      <th>valence</th>\n",
       "      <th>tempo</th>\n",
       "      <th>type</th>\n",
       "      <th>id</th>\n",
       "      <th>uri</th>\n",
       "      <th>track_href</th>\n",
       "      <th>analysis_url</th>\n",
       "      <th>duration_ms</th>\n",
       "      <th>time_signature</th>\n",
       "      <th>ETL_DTTM</th>\n",
       "    </tr>\n",
       "  </thead>\n",
       "  <tbody>\n",
       "    <tr>\n",
       "      <th>0</th>\n",
       "      <td>0.754</td>\n",
       "      <td>0.763</td>\n",
       "      <td>1</td>\n",
       "      <td>-6.57</td>\n",
       "      <td>1</td>\n",
       "      <td>0.295</td>\n",
       "      <td>0.32</td>\n",
       "      <td>0.0</td>\n",
       "      <td>0.143</td>\n",
       "      <td>0.704</td>\n",
       "      <td>159.963</td>\n",
       "      <td>audio_features</td>\n",
       "      <td>5ZcmLAogrj4HF8Odrz9XA2</td>\n",
       "      <td>spotify:track:5ZcmLAogrj4HF8Odrz9XA2</td>\n",
       "      <td>https://api.spotify.com/v1/tracks/5ZcmLAogrj4H...</td>\n",
       "      <td>https://api.spotify.com/v1/audio-analysis/5Zcm...</td>\n",
       "      <td>265693</td>\n",
       "      <td>3</td>\n",
       "      <td>2021-02-04, 23:13:23</td>\n",
       "    </tr>\n",
       "  </tbody>\n",
       "</table>\n",
       "</div>"
      ],
      "text/plain": [
       "   danceability  energy  key  loudness  mode  speechiness  acousticness  \\\n",
       "0         0.754   0.763    1     -6.57     1        0.295          0.32   \n",
       "\n",
       "   instrumentalness  liveness  valence    tempo            type  \\\n",
       "0               0.0     0.143    0.704  159.963  audio_features   \n",
       "\n",
       "                       id                                   uri  \\\n",
       "0  5ZcmLAogrj4HF8Odrz9XA2  spotify:track:5ZcmLAogrj4HF8Odrz9XA2   \n",
       "\n",
       "                                          track_href  \\\n",
       "0  https://api.spotify.com/v1/tracks/5ZcmLAogrj4H...   \n",
       "\n",
       "                                        analysis_url  duration_ms  \\\n",
       "0  https://api.spotify.com/v1/audio-analysis/5Zcm...       265693   \n",
       "\n",
       "   time_signature              ETL_DTTM  \n",
       "0               3  2021-02-04, 23:13:23  "
      ]
     },
     "execution_count": 5,
     "metadata": {},
     "output_type": "execute_result"
    }
   ],
   "source": [
    "df_features.head(1)"
   ]
  },
  {
   "cell_type": "markdown",
   "metadata": {},
   "source": [
    "The final query merges the data from the 3 tables into one master table, removing any potential duplicate records. If the same song was played over multiple days, there would be many."
   ]
  },
  {
   "cell_type": "code",
   "execution_count": 38,
   "metadata": {},
   "outputs": [],
   "source": [
    "merged_query = \"\"\"\n",
    "SELECT DISTINCT sh.spotify_id\n",
    "    ,sh.uri\n",
    "    ,sh.song_name\n",
    "    ,sh.artist_name\n",
    "    ,sh.artist_uri\n",
    "    ,sh.played_at\n",
    "    ,sh.date\n",
    "    ,ETL_DTTM\n",
    "    ,g.genres\n",
    "    ,g.popularity\n",
    "    ,sf.*\n",
    "FROM streaming_history sh \n",
    "LEFT JOIN (SELECT DISTINCT *\n",
    "    FROM (SELECT DISTINCT artist_id \n",
    "                ,artist_name\n",
    "                ,genres\n",
    "                ,popularity\n",
    "                ,row_number() over (partition by artist_id order by artist_id, ETL_DTTM) as dup\n",
    "            FROM genres)\n",
    "    WHERE dup = 1) g\n",
    "ON sh.artist_uri = g.artist_id\n",
    "LEFT JOIN (SELECT DISTINCT id -- spotify track id\n",
    "    ,danceability\n",
    "    ,energy\n",
    "    ,\"key\"\n",
    "    ,loudness\n",
    "    ,mode\n",
    "    ,speechiness\n",
    "    ,acousticness\n",
    "    ,instrumentalness\n",
    "    ,liveness\n",
    "    ,valence\n",
    "    ,tempo\n",
    "    ,duration_ms\n",
    "    ,time_signature\n",
    "FROM song_features) sf\n",
    "ON sh.spotify_id = sf.id\n",
    "order by played_at\n",
    "\"\"\"\n",
    "\n",
    "df_spotify = pd.read_sql_query(merged_query, conn)"
   ]
  },
  {
   "cell_type": "code",
   "execution_count": 39,
   "metadata": {},
   "outputs": [
    {
     "data": {
      "text/html": [
       "<div>\n",
       "<style scoped>\n",
       "    .dataframe tbody tr th:only-of-type {\n",
       "        vertical-align: middle;\n",
       "    }\n",
       "\n",
       "    .dataframe tbody tr th {\n",
       "        vertical-align: top;\n",
       "    }\n",
       "\n",
       "    .dataframe thead th {\n",
       "        text-align: right;\n",
       "    }\n",
       "</style>\n",
       "<table border=\"1\" class=\"dataframe\">\n",
       "  <thead>\n",
       "    <tr style=\"text-align: right;\">\n",
       "      <th></th>\n",
       "      <th>spotify_id</th>\n",
       "      <th>uri</th>\n",
       "      <th>song_name</th>\n",
       "      <th>artist_name</th>\n",
       "      <th>artist_uri</th>\n",
       "      <th>played_at</th>\n",
       "      <th>date</th>\n",
       "      <th>ETL_DTTM</th>\n",
       "      <th>genres</th>\n",
       "      <th>popularity</th>\n",
       "      <th>...</th>\n",
       "      <th>loudness</th>\n",
       "      <th>mode</th>\n",
       "      <th>speechiness</th>\n",
       "      <th>acousticness</th>\n",
       "      <th>instrumentalness</th>\n",
       "      <th>liveness</th>\n",
       "      <th>valence</th>\n",
       "      <th>tempo</th>\n",
       "      <th>duration_ms</th>\n",
       "      <th>time_signature</th>\n",
       "    </tr>\n",
       "  </thead>\n",
       "  <tbody>\n",
       "    <tr>\n",
       "      <th>4412</th>\n",
       "      <td>5y0ekFHNfFbjKhZlguSzdf</td>\n",
       "      <td>spotify:track:5y0ekFHNfFbjKhZlguSzdf</td>\n",
       "      <td>Dinner Guest (feat. MoStack)</td>\n",
       "      <td>AJ Tracey</td>\n",
       "      <td>4Xi6LSfFqv26XgP9NKN26U</td>\n",
       "      <td>2021-09-29 19:29:30.772000</td>\n",
       "      <td>2021-09-29</td>\n",
       "      <td>2021-09-30, 01:58:43</td>\n",
       "      <td>['grime', 'uk hip hop', 'ukg revival']</td>\n",
       "      <td>78.0</td>\n",
       "      <td>...</td>\n",
       "      <td>-6.942</td>\n",
       "      <td>0.0</td>\n",
       "      <td>0.2530</td>\n",
       "      <td>0.26500</td>\n",
       "      <td>0.000003</td>\n",
       "      <td>0.217</td>\n",
       "      <td>0.527</td>\n",
       "      <td>108.005</td>\n",
       "      <td>198032.0</td>\n",
       "      <td>4.0</td>\n",
       "    </tr>\n",
       "    <tr>\n",
       "      <th>4413</th>\n",
       "      <td>4gRfV8ZoExS64ipJ5cZxip</td>\n",
       "      <td>spotify:track:4gRfV8ZoExS64ipJ5cZxip</td>\n",
       "      <td>Top of the League</td>\n",
       "      <td>Country Dons</td>\n",
       "      <td>76IdLCK81jcB44BTCgR7Vx</td>\n",
       "      <td>2021-09-29 19:33:08.197000</td>\n",
       "      <td>2021-09-29</td>\n",
       "      <td>2021-09-30, 01:58:43</td>\n",
       "      <td>['uk drill', 'uk hip hop']</td>\n",
       "      <td>52.0</td>\n",
       "      <td>...</td>\n",
       "      <td>-9.654</td>\n",
       "      <td>1.0</td>\n",
       "      <td>0.2260</td>\n",
       "      <td>0.01960</td>\n",
       "      <td>0.000198</td>\n",
       "      <td>0.297</td>\n",
       "      <td>0.292</td>\n",
       "      <td>177.974</td>\n",
       "      <td>217079.0</td>\n",
       "      <td>4.0</td>\n",
       "    </tr>\n",
       "    <tr>\n",
       "      <th>4414</th>\n",
       "      <td>4L6rTjwwoqfOCn42JCAzDf</td>\n",
       "      <td>spotify:track:4L6rTjwwoqfOCn42JCAzDf</td>\n",
       "      <td>Have U Seen (feat. AJ Tracey)</td>\n",
       "      <td>MISOGI</td>\n",
       "      <td>778Snztf3N5DXp0kHGFl3g</td>\n",
       "      <td>2021-09-29 19:36:52.908000</td>\n",
       "      <td>2021-09-29</td>\n",
       "      <td>2021-09-30, 01:58:43</td>\n",
       "      <td>['emo rap', 'glitchcore', 'vapor twitch', 'wave']</td>\n",
       "      <td>51.0</td>\n",
       "      <td>...</td>\n",
       "      <td>-4.581</td>\n",
       "      <td>1.0</td>\n",
       "      <td>0.0502</td>\n",
       "      <td>0.03360</td>\n",
       "      <td>0.000141</td>\n",
       "      <td>0.114</td>\n",
       "      <td>0.172</td>\n",
       "      <td>129.978</td>\n",
       "      <td>223692.0</td>\n",
       "      <td>4.0</td>\n",
       "    </tr>\n",
       "    <tr>\n",
       "      <th>4415</th>\n",
       "      <td>1UQTXNXSJNqjqe79wGRlGm</td>\n",
       "      <td>spotify:track:1UQTXNXSJNqjqe79wGRlGm</td>\n",
       "      <td>Everyday</td>\n",
       "      <td>Guvna B</td>\n",
       "      <td>3XgNFNKLstByGKqplDht0H</td>\n",
       "      <td>2021-09-29 19:40:17.059000</td>\n",
       "      <td>2021-09-29</td>\n",
       "      <td>2021-09-30, 01:58:43</td>\n",
       "      <td>['christian hip hop', 'christian trap', 'uk ch...</td>\n",
       "      <td>48.0</td>\n",
       "      <td>...</td>\n",
       "      <td>-6.484</td>\n",
       "      <td>0.0</td>\n",
       "      <td>0.2520</td>\n",
       "      <td>0.24600</td>\n",
       "      <td>0.000575</td>\n",
       "      <td>0.126</td>\n",
       "      <td>0.612</td>\n",
       "      <td>135.067</td>\n",
       "      <td>203639.0</td>\n",
       "      <td>4.0</td>\n",
       "    </tr>\n",
       "    <tr>\n",
       "      <th>4416</th>\n",
       "      <td>6DRQEQLRLEuf2e7tc7ARM8</td>\n",
       "      <td>spotify:track:6DRQEQLRLEuf2e7tc7ARM8</td>\n",
       "      <td>Own It (feat. Burna Boy &amp; Stylo G) [Toddla T R...</td>\n",
       "      <td>Stormzy</td>\n",
       "      <td>2SrSdSvpminqmStGELCSNd</td>\n",
       "      <td>2021-09-29 19:54:09.778000</td>\n",
       "      <td>2021-09-29</td>\n",
       "      <td>2021-09-30, 01:58:43</td>\n",
       "      <td>['grime', 'uk hip hop']</td>\n",
       "      <td>80.0</td>\n",
       "      <td>...</td>\n",
       "      <td>-7.342</td>\n",
       "      <td>0.0</td>\n",
       "      <td>0.1990</td>\n",
       "      <td>0.00108</td>\n",
       "      <td>0.000137</td>\n",
       "      <td>0.204</td>\n",
       "      <td>0.517</td>\n",
       "      <td>104.003</td>\n",
       "      <td>185000.0</td>\n",
       "      <td>4.0</td>\n",
       "    </tr>\n",
       "  </tbody>\n",
       "</table>\n",
       "<p>5 rows × 24 columns</p>\n",
       "</div>"
      ],
      "text/plain": [
       "                  spotify_id                                   uri  \\\n",
       "4412  5y0ekFHNfFbjKhZlguSzdf  spotify:track:5y0ekFHNfFbjKhZlguSzdf   \n",
       "4413  4gRfV8ZoExS64ipJ5cZxip  spotify:track:4gRfV8ZoExS64ipJ5cZxip   \n",
       "4414  4L6rTjwwoqfOCn42JCAzDf  spotify:track:4L6rTjwwoqfOCn42JCAzDf   \n",
       "4415  1UQTXNXSJNqjqe79wGRlGm  spotify:track:1UQTXNXSJNqjqe79wGRlGm   \n",
       "4416  6DRQEQLRLEuf2e7tc7ARM8  spotify:track:6DRQEQLRLEuf2e7tc7ARM8   \n",
       "\n",
       "                                              song_name   artist_name  \\\n",
       "4412                       Dinner Guest (feat. MoStack)     AJ Tracey   \n",
       "4413                                  Top of the League  Country Dons   \n",
       "4414                      Have U Seen (feat. AJ Tracey)        MISOGI   \n",
       "4415                                           Everyday       Guvna B   \n",
       "4416  Own It (feat. Burna Boy & Stylo G) [Toddla T R...       Stormzy   \n",
       "\n",
       "                  artist_uri                   played_at        date  \\\n",
       "4412  4Xi6LSfFqv26XgP9NKN26U  2021-09-29 19:29:30.772000  2021-09-29   \n",
       "4413  76IdLCK81jcB44BTCgR7Vx  2021-09-29 19:33:08.197000  2021-09-29   \n",
       "4414  778Snztf3N5DXp0kHGFl3g  2021-09-29 19:36:52.908000  2021-09-29   \n",
       "4415  3XgNFNKLstByGKqplDht0H  2021-09-29 19:40:17.059000  2021-09-29   \n",
       "4416  2SrSdSvpminqmStGELCSNd  2021-09-29 19:54:09.778000  2021-09-29   \n",
       "\n",
       "                  ETL_DTTM                                             genres  \\\n",
       "4412  2021-09-30, 01:58:43             ['grime', 'uk hip hop', 'ukg revival']   \n",
       "4413  2021-09-30, 01:58:43                         ['uk drill', 'uk hip hop']   \n",
       "4414  2021-09-30, 01:58:43  ['emo rap', 'glitchcore', 'vapor twitch', 'wave']   \n",
       "4415  2021-09-30, 01:58:43  ['christian hip hop', 'christian trap', 'uk ch...   \n",
       "4416  2021-09-30, 01:58:43                            ['grime', 'uk hip hop']   \n",
       "\n",
       "      popularity  ... loudness  mode  speechiness  acousticness  \\\n",
       "4412        78.0  ...   -6.942   0.0       0.2530       0.26500   \n",
       "4413        52.0  ...   -9.654   1.0       0.2260       0.01960   \n",
       "4414        51.0  ...   -4.581   1.0       0.0502       0.03360   \n",
       "4415        48.0  ...   -6.484   0.0       0.2520       0.24600   \n",
       "4416        80.0  ...   -7.342   0.0       0.1990       0.00108   \n",
       "\n",
       "      instrumentalness  liveness  valence    tempo  duration_ms  \\\n",
       "4412          0.000003     0.217    0.527  108.005     198032.0   \n",
       "4413          0.000198     0.297    0.292  177.974     217079.0   \n",
       "4414          0.000141     0.114    0.172  129.978     223692.0   \n",
       "4415          0.000575     0.126    0.612  135.067     203639.0   \n",
       "4416          0.000137     0.204    0.517  104.003     185000.0   \n",
       "\n",
       "      time_signature  \n",
       "4412             4.0  \n",
       "4413             4.0  \n",
       "4414             4.0  \n",
       "4415             4.0  \n",
       "4416             4.0  \n",
       "\n",
       "[5 rows x 24 columns]"
      ]
     },
     "execution_count": 39,
     "metadata": {},
     "output_type": "execute_result"
    }
   ],
   "source": [
    "df_spotify.tail()"
   ]
  },
  {
   "cell_type": "markdown",
   "metadata": {},
   "source": [
    "## EDA & Data Cleaning"
   ]
  },
  {
   "cell_type": "code",
   "execution_count": 40,
   "metadata": {},
   "outputs": [
    {
     "name": "stdout",
     "output_type": "stream",
     "text": [
      "Total number of songs streamed:  4417\n",
      "Number of unique songs:  1104\n",
      "Number of unique artists:  415\n"
     ]
    }
   ],
   "source": [
    "print(\"Total number of songs streamed: \", len(df_spotify.spotify_id))\n",
    "print(\"Number of unique songs: \", len(df_spotify.spotify_id.unique()))\n",
    "print(\"Number of unique artists: \", len(df_spotify.artist_uri.unique()))"
   ]
  },
  {
   "cell_type": "code",
   "execution_count": 41,
   "metadata": {},
   "outputs": [
    {
     "data": {
      "text/plain": [
       "spotify_id           object\n",
       "uri                  object\n",
       "song_name            object\n",
       "artist_name          object\n",
       "artist_uri           object\n",
       "played_at            object\n",
       "date                 object\n",
       "ETL_DTTM             object\n",
       "genres               object\n",
       "popularity          float64\n",
       "id                   object\n",
       "danceability        float64\n",
       "energy              float64\n",
       "key                 float64\n",
       "loudness            float64\n",
       "mode                float64\n",
       "speechiness         float64\n",
       "acousticness        float64\n",
       "instrumentalness    float64\n",
       "liveness            float64\n",
       "valence             float64\n",
       "tempo               float64\n",
       "duration_ms         float64\n",
       "time_signature      float64\n",
       "dtype: object"
      ]
     },
     "execution_count": 41,
     "metadata": {},
     "output_type": "execute_result"
    }
   ],
   "source": [
    "df_spotify.dtypes"
   ]
  },
  {
   "cell_type": "code",
   "execution_count": 10,
   "metadata": {},
   "outputs": [
    {
     "data": {
      "text/plain": [
       "\"['belgian dance', 'belgian edm', 'big room', 'dance pop', 'edm', 'electro house', 'pop dance', 'progressive electro house', 'tropical house']\""
      ]
     },
     "execution_count": 10,
     "metadata": {},
     "output_type": "execute_result"
    }
   ],
   "source": [
    "df_spotify['genres'].values[4362]"
   ]
  },
  {
   "cell_type": "markdown",
   "metadata": {},
   "source": [
    "We see that the genres column appears to be a list at first glance, but is not actually in a list format:"
   ]
  },
  {
   "cell_type": "code",
   "execution_count": 11,
   "metadata": {},
   "outputs": [
    {
     "data": {
      "text/plain": [
       "'['"
      ]
     },
     "execution_count": 11,
     "metadata": {},
     "output_type": "execute_result"
    }
   ],
   "source": [
    "df_spotify['genres'].values[4362][0]"
   ]
  },
  {
   "cell_type": "markdown",
   "metadata": {},
   "source": [
    "To fix this, a Regular Expression (regex) statement will be used to return a list for each genre. For records without a genre, an empty list will be input."
   ]
  },
  {
   "cell_type": "code",
   "execution_count": 12,
   "metadata": {},
   "outputs": [],
   "source": [
    "df_spotify['genres'] = df_spotify['genres'].fillna('[]').apply(lambda x: [re.sub(' ', '_', i) for i in re.findall(r\"'([^']*)'\", x)])"
   ]
  },
  {
   "cell_type": "code",
   "execution_count": 13,
   "metadata": {},
   "outputs": [
    {
     "data": {
      "text/plain": [
       "'belgian_dance'"
      ]
     },
     "execution_count": 13,
     "metadata": {},
     "output_type": "execute_result"
    }
   ],
   "source": [
    "df_spotify['genres'].values[4362][0]"
   ]
  },
  {
   "cell_type": "code",
   "execution_count": 78,
   "metadata": {},
   "outputs": [],
   "source": [
    "# create list of columns which are numeric\n",
    "num = df_spotify.select_dtypes(include=np.number)\n",
    "column_list = num.columns.to_list()"
   ]
  },
  {
   "cell_type": "markdown",
   "metadata": {},
   "source": [
    "At this point I would like to visualize the distribution of the many data points available. Some knowledge of key attributes may help with model building later on. "
   ]
  },
  {
   "cell_type": "code",
   "execution_count": 72,
   "metadata": {},
   "outputs": [
    {
     "data": {
      "image/png": "[encoded data removed]",
      "text/plain": [
       "<Figure size 1080x720 with 16 Axes>"
      ]
     },
     "metadata": {},
     "output_type": "display_data"
    }
   ],
   "source": [
    "sns.set(style=\"white\", palette=\"muted\", color_codes=True)\n",
    "\n",
    "fig, axes = plt.subplots(4, 4, figsize=(15, 10), sharex=False)\n",
    "sns.despine(right=True)\n",
    "\n",
    "sns.distplot(df_spotify['duration_ms'], kde=False, bins=30, ax=axes[0, 0], color=\"m\")\n",
    "sns.distplot(df_spotify['popularity'], kde=False, bins=30, ax=axes[0, 1], color=\"m\")\n",
    "sns.distplot(df_spotify['danceability'], kde=False, bins=30, ax=axes[0, 2], color=\"m\")\n",
    "sns.distplot(df_spotify['energy'], kde=False, bins=30, ax=axes[0, 3], color=\"m\")\n",
    "\n",
    "sns.distplot(df_spotify['key'], kde=False, bins=30, ax=axes[1, 0], color=\"r\")\n",
    "sns.distplot(df_spotify['loudness'], kde=False, bins=30, ax=axes[1, 1], color=\"r\")\n",
    "sns.distplot(df_spotify['mode'], kde=False, bins=30, ax=axes[1, 2], color=\"r\")\n",
    "sns.distplot(df_spotify['speechiness'], kde=False, bins=30, ax=axes[1, 3], color=\"r\")\n",
    "\n",
    "sns.distplot(df_spotify['acousticness'], kde=False, bins=30, ax=axes[2, 0], color=\"g\")\n",
    "sns.distplot(df_spotify['instrumentalness'], kde=False, bins=30, ax=axes[2, 1], color=\"g\")\n",
    "sns.distplot(df_spotify['liveness'], kde=False, bins=30, ax=axes[2, 2], color=\"g\")\n",
    "sns.distplot(df_spotify['valence'], kde=False, bins=30, ax=axes[2, 3], color=\"g\")\n",
    "\n",
    "sns.distplot(df_spotify['tempo'], kde=False, bins=30, ax=axes[3, 0])\n",
    "sns.distplot(df_spotify['time_signature'], kde=False, bins=30, ax=axes[3, 1])\n",
    "sns.distplot(df_spotify['duration_ms']//60000, kde=False, bins=30, ax=axes[3, 2]).set_xlabel('duration_min')\n",
    "#sns.distplot(df_spotify['valence'], kde=False, bins=30, ax=axes[3, 3])\n",
    "\n",
    "plt.suptitle('Distribution of Song Features', fontsize=25)\n",
    "plt.tight_layout()"
   ]
  },
  {
   "cell_type": "code",
   "execution_count": null,
   "metadata": {},
   "outputs": [],
   "source": []
  }
 ],
 "metadata": {
  "kernelspec": {
   "display_name": "Python 3",
   "language": "python",
   "name": "python3"
  },
  "language_info": {
   "codemirror_mode": {
    "name": "ipython",
    "version": 3
   },
   "file_extension": ".py",
   "mimetype": "text/x-python",
   "name": "python",
   "nbconvert_exporter": "python",
   "pygments_lexer": "ipython3",
   "version": "3.8.5"
  }
 },
 "nbformat": 4,
 "nbformat_minor": 4
}
