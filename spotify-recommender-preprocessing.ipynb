{
 "cells": [
  {
   "cell_type": "markdown",
   "metadata": {},
   "source": [
    "# Spotify Recommender Part 1 - Data Preprocessing"
   ]
  },
  {
   "cell_type": "markdown",
   "metadata": {},
   "source": [
    "To do:\n",
    "- check API reference for additional data that can be pulled in for artist/genres\n",
    "- join data via sql\n",
    "- clean data"
   ]
  },
  {
   "cell_type": "code",
   "execution_count": 123,
   "metadata": {},
   "outputs": [],
   "source": [
    "import os\n",
    "import re\n",
    "import pandas as pd\n",
    "import numpy as np\n",
    "import sqlite3\n",
    "\n",
    "from secrets import SPOTIFY_HISTORY_DB"
   ]
  },
  {
   "cell_type": "markdown",
   "metadata": {},
   "source": [
    "First we setup the connection to the SQL DB which contains 3 tables:\n",
    "- **streaming_history**: each song listened to starting 02-01-2021\n",
    "- **genres**: each of the artists from streaming_history, tagged with their corresponding genre\n",
    "- **song_features**: each track from streaming_history, with details at the song level \n",
    "    - details include corresponding track values (liveness, tempo, valence etc.)"
   ]
  },
  {
   "cell_type": "code",
   "execution_count": 3,
   "metadata": {},
   "outputs": [],
   "source": [
    "conn = sqlite3.connect(SPOTIFY_HISTORY_DB)\n",
    "\n",
    "df_sh = pd.read_sql_query(\"SELECT * FROM streaming_history\", conn)\n",
    "df_genres = pd.read_sql_query(\"SELECT * FROM genres\", conn)\n",
    "df_features = pd.read_sql_query(\"SELECT * FROM song_features\", conn)"
   ]
  },
  {
   "cell_type": "code",
   "execution_count": 4,
   "metadata": {},
   "outputs": [
    {
     "data": {
      "text/html": [
       "<div>\n",
       "<style scoped>\n",
       "    .dataframe tbody tr th:only-of-type {\n",
       "        vertical-align: middle;\n",
       "    }\n",
       "\n",
       "    .dataframe tbody tr th {\n",
       "        vertical-align: top;\n",
       "    }\n",
       "\n",
       "    .dataframe thead th {\n",
       "        text-align: right;\n",
       "    }\n",
       "</style>\n",
       "<table border=\"1\" class=\"dataframe\">\n",
       "  <thead>\n",
       "    <tr style=\"text-align: right;\">\n",
       "      <th></th>\n",
       "      <th>spotify_id</th>\n",
       "      <th>uri</th>\n",
       "      <th>song_name</th>\n",
       "      <th>artist_name</th>\n",
       "      <th>played_at</th>\n",
       "      <th>duration_ms</th>\n",
       "      <th>date</th>\n",
       "      <th>ETL_DTTM</th>\n",
       "      <th>artist_uri</th>\n",
       "    </tr>\n",
       "  </thead>\n",
       "  <tbody>\n",
       "    <tr>\n",
       "      <th>4366</th>\n",
       "      <td>32x8lPZ4nidLsF0d0qM5KG</td>\n",
       "      <td>spotify:track:32x8lPZ4nidLsF0d0qM5KG</td>\n",
       "      <td>Heavy Heavy (feat. Tempo)</td>\n",
       "      <td>Wisin</td>\n",
       "      <td>2021-09-27 00:58:43.906000</td>\n",
       "      <td>240626</td>\n",
       "      <td>2021-09-27</td>\n",
       "      <td>2021-09-28, 00:05:09</td>\n",
       "      <td>3E6xrwgnVfYCrCs0ePERDz</td>\n",
       "    </tr>\n",
       "  </tbody>\n",
       "</table>\n",
       "</div>"
      ],
      "text/plain": [
       "                  spotify_id                                   uri  \\\n",
       "4366  32x8lPZ4nidLsF0d0qM5KG  spotify:track:32x8lPZ4nidLsF0d0qM5KG   \n",
       "\n",
       "                      song_name artist_name                   played_at  \\\n",
       "4366  Heavy Heavy (feat. Tempo)       Wisin  2021-09-27 00:58:43.906000   \n",
       "\n",
       "      duration_ms        date              ETL_DTTM              artist_uri  \n",
       "4366       240626  2021-09-27  2021-09-28, 00:05:09  3E6xrwgnVfYCrCs0ePERDz  "
      ]
     },
     "execution_count": 4,
     "metadata": {},
     "output_type": "execute_result"
    }
   ],
   "source": [
    "df_sh.tail(1)"
   ]
  },
  {
   "cell_type": "code",
   "execution_count": 5,
   "metadata": {},
   "outputs": [
    {
     "data": {
      "text/html": [
       "<div>\n",
       "<style scoped>\n",
       "    .dataframe tbody tr th:only-of-type {\n",
       "        vertical-align: middle;\n",
       "    }\n",
       "\n",
       "    .dataframe tbody tr th {\n",
       "        vertical-align: top;\n",
       "    }\n",
       "\n",
       "    .dataframe thead th {\n",
       "        text-align: right;\n",
       "    }\n",
       "</style>\n",
       "<table border=\"1\" class=\"dataframe\">\n",
       "  <thead>\n",
       "    <tr style=\"text-align: right;\">\n",
       "      <th></th>\n",
       "      <th>spotify_url</th>\n",
       "      <th>total_followers</th>\n",
       "      <th>genres</th>\n",
       "      <th>artist_id</th>\n",
       "      <th>artist_name</th>\n",
       "      <th>popularity</th>\n",
       "      <th>uri</th>\n",
       "      <th>ETL_DTTM</th>\n",
       "    </tr>\n",
       "  </thead>\n",
       "  <tbody>\n",
       "    <tr>\n",
       "      <th>0</th>\n",
       "      <td>https://open.spotify.com/artist/3SFVIUlipGj3Rp...</td>\n",
       "      <td>48610</td>\n",
       "      <td>['bass trap', 'traprun']</td>\n",
       "      <td>3SFVIUlipGj3RpWCKe9s73</td>\n",
       "      <td>Lox Chatterbox</td>\n",
       "      <td>58</td>\n",
       "      <td>spotify:artist:3SFVIUlipGj3RpWCKe9s73</td>\n",
       "      <td>2021-02-14, 09:25:59</td>\n",
       "    </tr>\n",
       "  </tbody>\n",
       "</table>\n",
       "</div>"
      ],
      "text/plain": [
       "                                         spotify_url  total_followers  \\\n",
       "0  https://open.spotify.com/artist/3SFVIUlipGj3Rp...            48610   \n",
       "\n",
       "                     genres               artist_id     artist_name  \\\n",
       "0  ['bass trap', 'traprun']  3SFVIUlipGj3RpWCKe9s73  Lox Chatterbox   \n",
       "\n",
       "   popularity                                    uri              ETL_DTTM  \n",
       "0          58  spotify:artist:3SFVIUlipGj3RpWCKe9s73  2021-02-14, 09:25:59  "
      ]
     },
     "execution_count": 5,
     "metadata": {},
     "output_type": "execute_result"
    }
   ],
   "source": [
    "df_genres.head(1)"
   ]
  },
  {
   "cell_type": "code",
   "execution_count": 6,
   "metadata": {},
   "outputs": [
    {
     "data": {
      "text/html": [
       "<div>\n",
       "<style scoped>\n",
       "    .dataframe tbody tr th:only-of-type {\n",
       "        vertical-align: middle;\n",
       "    }\n",
       "\n",
       "    .dataframe tbody tr th {\n",
       "        vertical-align: top;\n",
       "    }\n",
       "\n",
       "    .dataframe thead th {\n",
       "        text-align: right;\n",
       "    }\n",
       "</style>\n",
       "<table border=\"1\" class=\"dataframe\">\n",
       "  <thead>\n",
       "    <tr style=\"text-align: right;\">\n",
       "      <th></th>\n",
       "      <th>danceability</th>\n",
       "      <th>energy</th>\n",
       "      <th>key</th>\n",
       "      <th>loudness</th>\n",
       "      <th>mode</th>\n",
       "      <th>speechiness</th>\n",
       "      <th>acousticness</th>\n",
       "      <th>instrumentalness</th>\n",
       "      <th>liveness</th>\n",
       "      <th>valence</th>\n",
       "      <th>tempo</th>\n",
       "      <th>type</th>\n",
       "      <th>id</th>\n",
       "      <th>uri</th>\n",
       "      <th>track_href</th>\n",
       "      <th>analysis_url</th>\n",
       "      <th>duration_ms</th>\n",
       "      <th>time_signature</th>\n",
       "      <th>ETL_DTTM</th>\n",
       "    </tr>\n",
       "  </thead>\n",
       "  <tbody>\n",
       "    <tr>\n",
       "      <th>0</th>\n",
       "      <td>0.754</td>\n",
       "      <td>0.763</td>\n",
       "      <td>1</td>\n",
       "      <td>-6.57</td>\n",
       "      <td>1</td>\n",
       "      <td>0.295</td>\n",
       "      <td>0.32</td>\n",
       "      <td>0.0</td>\n",
       "      <td>0.143</td>\n",
       "      <td>0.704</td>\n",
       "      <td>159.963</td>\n",
       "      <td>audio_features</td>\n",
       "      <td>5ZcmLAogrj4HF8Odrz9XA2</td>\n",
       "      <td>spotify:track:5ZcmLAogrj4HF8Odrz9XA2</td>\n",
       "      <td>https://api.spotify.com/v1/tracks/5ZcmLAogrj4H...</td>\n",
       "      <td>https://api.spotify.com/v1/audio-analysis/5Zcm...</td>\n",
       "      <td>265693</td>\n",
       "      <td>3</td>\n",
       "      <td>2021-02-04, 23:13:23</td>\n",
       "    </tr>\n",
       "  </tbody>\n",
       "</table>\n",
       "</div>"
      ],
      "text/plain": [
       "   danceability  energy  key  loudness  mode  speechiness  acousticness  \\\n",
       "0         0.754   0.763    1     -6.57     1        0.295          0.32   \n",
       "\n",
       "   instrumentalness  liveness  valence    tempo            type  \\\n",
       "0               0.0     0.143    0.704  159.963  audio_features   \n",
       "\n",
       "                       id                                   uri  \\\n",
       "0  5ZcmLAogrj4HF8Odrz9XA2  spotify:track:5ZcmLAogrj4HF8Odrz9XA2   \n",
       "\n",
       "                                          track_href  \\\n",
       "0  https://api.spotify.com/v1/tracks/5ZcmLAogrj4H...   \n",
       "\n",
       "                                        analysis_url  duration_ms  \\\n",
       "0  https://api.spotify.com/v1/audio-analysis/5Zcm...       265693   \n",
       "\n",
       "   time_signature              ETL_DTTM  \n",
       "0               3  2021-02-04, 23:13:23  "
      ]
     },
     "execution_count": 6,
     "metadata": {},
     "output_type": "execute_result"
    }
   ],
   "source": [
    "df_features.head(1)"
   ]
  },
  {
   "cell_type": "markdown",
   "metadata": {},
   "source": [
    "The final query merges the data from the 3 tables into one master table, removing any potential duplicate records. If the same song was played over multiple days, there would be many."
   ]
  },
  {
   "cell_type": "code",
   "execution_count": 196,
   "metadata": {},
   "outputs": [],
   "source": [
    "merged_query = \"\"\"\n",
    "SELECT DISTINCT sh.*\n",
    "    ,g.genres\n",
    "    ,sf.*\n",
    "FROM streaming_history sh \n",
    "LEFT JOIN (SELECT DISTINCT *\n",
    "    FROM (SELECT DISTINCT artist_id \n",
    "                ,artist_name\n",
    "                ,genres\n",
    "                ,row_number() over (partition by artist_id order by artist_id, ETL_DTTM) as dup\n",
    "            FROM genres)\n",
    "    WHERE dup = 1) g\n",
    "ON sh.artist_uri = g.artist_id\n",
    "LEFT JOIN (SELECT DISTINCT id -- spotify track id\n",
    "    ,danceability\n",
    "    ,energy\n",
    "    ,\"key\"\n",
    "    ,loudness\n",
    "    ,mode\n",
    "    ,speechiness\n",
    "    ,acousticness\n",
    "    ,instrumentalness\n",
    "    ,liveness\n",
    "    ,valence\n",
    "    ,tempo\n",
    "    ,duration_ms\n",
    "    ,time_signature\n",
    "FROM song_features) sf\n",
    "ON sh.spotify_id = sf.id\n",
    "order by played_at\n",
    "\"\"\"\n",
    "\n",
    "df_spotify = pd.read_sql_query(merged_query, conn)"
   ]
  },
  {
   "cell_type": "code",
   "execution_count": 182,
   "metadata": {},
   "outputs": [
    {
     "data": {
      "text/html": [
       "<div>\n",
       "<style scoped>\n",
       "    .dataframe tbody tr th:only-of-type {\n",
       "        vertical-align: middle;\n",
       "    }\n",
       "\n",
       "    .dataframe tbody tr th {\n",
       "        vertical-align: top;\n",
       "    }\n",
       "\n",
       "    .dataframe thead th {\n",
       "        text-align: right;\n",
       "    }\n",
       "</style>\n",
       "<table border=\"1\" class=\"dataframe\">\n",
       "  <thead>\n",
       "    <tr style=\"text-align: right;\">\n",
       "      <th></th>\n",
       "      <th>spotify_id</th>\n",
       "      <th>uri</th>\n",
       "      <th>song_name</th>\n",
       "      <th>artist_name</th>\n",
       "      <th>played_at</th>\n",
       "      <th>duration_ms</th>\n",
       "      <th>date</th>\n",
       "      <th>ETL_DTTM</th>\n",
       "      <th>artist_uri</th>\n",
       "      <th>artist_id</th>\n",
       "      <th>...</th>\n",
       "      <th>loudness</th>\n",
       "      <th>mode</th>\n",
       "      <th>speechiness</th>\n",
       "      <th>acousticness</th>\n",
       "      <th>instrumentalness</th>\n",
       "      <th>liveness</th>\n",
       "      <th>valence</th>\n",
       "      <th>tempo</th>\n",
       "      <th>duration_ms</th>\n",
       "      <th>time_signature</th>\n",
       "    </tr>\n",
       "  </thead>\n",
       "  <tbody>\n",
       "    <tr>\n",
       "      <th>4362</th>\n",
       "      <td>3VkoSghZ6EeLizE8meDCX8</td>\n",
       "      <td>spotify:track:3VkoSghZ6EeLizE8meDCX8</td>\n",
       "      <td>Too Much</td>\n",
       "      <td>Dimitri Vegas &amp; Like Mike</td>\n",
       "      <td>2021-09-27 20:13:16.067000</td>\n",
       "      <td>125714</td>\n",
       "      <td>2021-09-27</td>\n",
       "      <td>2021-09-28, 00:05:09</td>\n",
       "      <td>73jBynjsVtofjRpdpRAJGk</td>\n",
       "      <td>73jBynjsVtofjRpdpRAJGk</td>\n",
       "      <td>...</td>\n",
       "      <td>-7.301</td>\n",
       "      <td>1.0</td>\n",
       "      <td>0.0408</td>\n",
       "      <td>0.0461</td>\n",
       "      <td>0.000174</td>\n",
       "      <td>0.163</td>\n",
       "      <td>0.332</td>\n",
       "      <td>126.014</td>\n",
       "      <td>125714.0</td>\n",
       "      <td>4.0</td>\n",
       "    </tr>\n",
       "    <tr>\n",
       "      <th>4363</th>\n",
       "      <td>0eV8NV4lgEbo5FGB8SxtEo</td>\n",
       "      <td>spotify:track:0eV8NV4lgEbo5FGB8SxtEo</td>\n",
       "      <td>Monster</td>\n",
       "      <td>Meldom</td>\n",
       "      <td>2021-09-27 20:27:52.996000</td>\n",
       "      <td>140184</td>\n",
       "      <td>2021-09-27</td>\n",
       "      <td>2021-09-28, 00:05:09</td>\n",
       "      <td>0IAGPR7yj5DkqlSz7TIcsZ</td>\n",
       "      <td>0IAGPR7yj5DkqlSz7TIcsZ</td>\n",
       "      <td>...</td>\n",
       "      <td>-5.174</td>\n",
       "      <td>0.0</td>\n",
       "      <td>0.2700</td>\n",
       "      <td>0.2730</td>\n",
       "      <td>0.000002</td>\n",
       "      <td>0.397</td>\n",
       "      <td>0.389</td>\n",
       "      <td>125.145</td>\n",
       "      <td>140185.0</td>\n",
       "      <td>4.0</td>\n",
       "    </tr>\n",
       "    <tr>\n",
       "      <th>4364</th>\n",
       "      <td>78BOOaAvxOywAnbINpmVqe</td>\n",
       "      <td>spotify:track:78BOOaAvxOywAnbINpmVqe</td>\n",
       "      <td>Disturbia</td>\n",
       "      <td>2Hounds</td>\n",
       "      <td>2021-09-27 20:31:01.112000</td>\n",
       "      <td>187740</td>\n",
       "      <td>2021-09-27</td>\n",
       "      <td>2021-09-28, 00:05:09</td>\n",
       "      <td>0qeQAOjEYyeV2opWZdRcU9</td>\n",
       "      <td>0qeQAOjEYyeV2opWZdRcU9</td>\n",
       "      <td>...</td>\n",
       "      <td>-5.919</td>\n",
       "      <td>0.0</td>\n",
       "      <td>0.1430</td>\n",
       "      <td>0.0071</td>\n",
       "      <td>0.000000</td>\n",
       "      <td>0.420</td>\n",
       "      <td>0.161</td>\n",
       "      <td>125.094</td>\n",
       "      <td>187740.0</td>\n",
       "      <td>4.0</td>\n",
       "    </tr>\n",
       "    <tr>\n",
       "      <th>4365</th>\n",
       "      <td>5VZWtVHD9X4jSpNR7PQybp</td>\n",
       "      <td>spotify:track:5VZWtVHD9X4jSpNR7PQybp</td>\n",
       "      <td>Be With You</td>\n",
       "      <td>BASTL</td>\n",
       "      <td>2021-09-27 20:33:16.775000</td>\n",
       "      <td>134565</td>\n",
       "      <td>2021-09-27</td>\n",
       "      <td>2021-09-28, 00:05:09</td>\n",
       "      <td>2QYmb5VU9IPtOC7gs9esJB</td>\n",
       "      <td>2QYmb5VU9IPtOC7gs9esJB</td>\n",
       "      <td>...</td>\n",
       "      <td>-7.169</td>\n",
       "      <td>0.0</td>\n",
       "      <td>0.2130</td>\n",
       "      <td>0.1620</td>\n",
       "      <td>0.000015</td>\n",
       "      <td>0.109</td>\n",
       "      <td>0.113</td>\n",
       "      <td>127.923</td>\n",
       "      <td>134565.0</td>\n",
       "      <td>4.0</td>\n",
       "    </tr>\n",
       "    <tr>\n",
       "      <th>4366</th>\n",
       "      <td>4iN8WA2w5CYEF5ZCWoym0c</td>\n",
       "      <td>spotify:track:4iN8WA2w5CYEF5ZCWoym0c</td>\n",
       "      <td>I Don't Wanna Know</td>\n",
       "      <td>Crunkz</td>\n",
       "      <td>2021-09-27 20:36:09.575000</td>\n",
       "      <td>172323</td>\n",
       "      <td>2021-09-27</td>\n",
       "      <td>2021-09-28, 00:05:09</td>\n",
       "      <td>4OXIfQQfNxUxqVPwoklWcv</td>\n",
       "      <td>4OXIfQQfNxUxqVPwoklWcv</td>\n",
       "      <td>...</td>\n",
       "      <td>-4.921</td>\n",
       "      <td>0.0</td>\n",
       "      <td>0.1020</td>\n",
       "      <td>0.0685</td>\n",
       "      <td>0.000000</td>\n",
       "      <td>0.401</td>\n",
       "      <td>0.387</td>\n",
       "      <td>124.125</td>\n",
       "      <td>172324.0</td>\n",
       "      <td>4.0</td>\n",
       "    </tr>\n",
       "  </tbody>\n",
       "</table>\n",
       "<p>5 rows × 27 columns</p>\n",
       "</div>"
      ],
      "text/plain": [
       "                  spotify_id                                   uri  \\\n",
       "4362  3VkoSghZ6EeLizE8meDCX8  spotify:track:3VkoSghZ6EeLizE8meDCX8   \n",
       "4363  0eV8NV4lgEbo5FGB8SxtEo  spotify:track:0eV8NV4lgEbo5FGB8SxtEo   \n",
       "4364  78BOOaAvxOywAnbINpmVqe  spotify:track:78BOOaAvxOywAnbINpmVqe   \n",
       "4365  5VZWtVHD9X4jSpNR7PQybp  spotify:track:5VZWtVHD9X4jSpNR7PQybp   \n",
       "4366  4iN8WA2w5CYEF5ZCWoym0c  spotify:track:4iN8WA2w5CYEF5ZCWoym0c   \n",
       "\n",
       "               song_name                artist_name  \\\n",
       "4362            Too Much  Dimitri Vegas & Like Mike   \n",
       "4363             Monster                     Meldom   \n",
       "4364           Disturbia                    2Hounds   \n",
       "4365         Be With You                      BASTL   \n",
       "4366  I Don't Wanna Know                     Crunkz   \n",
       "\n",
       "                       played_at  duration_ms        date  \\\n",
       "4362  2021-09-27 20:13:16.067000       125714  2021-09-27   \n",
       "4363  2021-09-27 20:27:52.996000       140184  2021-09-27   \n",
       "4364  2021-09-27 20:31:01.112000       187740  2021-09-27   \n",
       "4365  2021-09-27 20:33:16.775000       134565  2021-09-27   \n",
       "4366  2021-09-27 20:36:09.575000       172323  2021-09-27   \n",
       "\n",
       "                  ETL_DTTM              artist_uri               artist_id  \\\n",
       "4362  2021-09-28, 00:05:09  73jBynjsVtofjRpdpRAJGk  73jBynjsVtofjRpdpRAJGk   \n",
       "4363  2021-09-28, 00:05:09  0IAGPR7yj5DkqlSz7TIcsZ  0IAGPR7yj5DkqlSz7TIcsZ   \n",
       "4364  2021-09-28, 00:05:09  0qeQAOjEYyeV2opWZdRcU9  0qeQAOjEYyeV2opWZdRcU9   \n",
       "4365  2021-09-28, 00:05:09  2QYmb5VU9IPtOC7gs9esJB  2QYmb5VU9IPtOC7gs9esJB   \n",
       "4366  2021-09-28, 00:05:09  4OXIfQQfNxUxqVPwoklWcv  4OXIfQQfNxUxqVPwoklWcv   \n",
       "\n",
       "      ... loudness mode  speechiness acousticness  instrumentalness  liveness  \\\n",
       "4362  ...   -7.301  1.0       0.0408       0.0461          0.000174     0.163   \n",
       "4363  ...   -5.174  0.0       0.2700       0.2730          0.000002     0.397   \n",
       "4364  ...   -5.919  0.0       0.1430       0.0071          0.000000     0.420   \n",
       "4365  ...   -7.169  0.0       0.2130       0.1620          0.000015     0.109   \n",
       "4366  ...   -4.921  0.0       0.1020       0.0685          0.000000     0.401   \n",
       "\n",
       "      valence    tempo  duration_ms  time_signature  \n",
       "4362    0.332  126.014     125714.0             4.0  \n",
       "4363    0.389  125.145     140185.0             4.0  \n",
       "4364    0.161  125.094     187740.0             4.0  \n",
       "4365    0.113  127.923     134565.0             4.0  \n",
       "4366    0.387  124.125     172324.0             4.0  \n",
       "\n",
       "[5 rows x 27 columns]"
      ]
     },
     "execution_count": 182,
     "metadata": {},
     "output_type": "execute_result"
    }
   ],
   "source": [
    "df_spotify.tail()"
   ]
  },
  {
   "cell_type": "code",
   "execution_count": 197,
   "metadata": {},
   "outputs": [
    {
     "data": {
      "text/plain": [
       "spotify_id           object\n",
       "uri                  object\n",
       "song_name            object\n",
       "artist_name          object\n",
       "played_at            object\n",
       "duration_ms           int64\n",
       "date                 object\n",
       "ETL_DTTM             object\n",
       "artist_uri           object\n",
       "genres               object\n",
       "id                   object\n",
       "danceability        float64\n",
       "energy              float64\n",
       "key                 float64\n",
       "loudness            float64\n",
       "mode                float64\n",
       "speechiness         float64\n",
       "acousticness        float64\n",
       "instrumentalness    float64\n",
       "liveness            float64\n",
       "valence             float64\n",
       "tempo               float64\n",
       "duration_ms         float64\n",
       "time_signature      float64\n",
       "dtype: object"
      ]
     },
     "execution_count": 197,
     "metadata": {},
     "output_type": "execute_result"
    }
   ],
   "source": [
    "df_spotify.dtypes"
   ]
  },
  {
   "cell_type": "code",
   "execution_count": 184,
   "metadata": {},
   "outputs": [
    {
     "data": {
      "text/plain": [
       "\"['belgian dance', 'belgian edm', 'big room', 'dance pop', 'edm', 'electro house', 'pop dance', 'progressive electro house', 'tropical house']\""
      ]
     },
     "execution_count": 184,
     "metadata": {},
     "output_type": "execute_result"
    }
   ],
   "source": [
    "df_spotify['genres'].values[4362]"
   ]
  },
  {
   "cell_type": "markdown",
   "metadata": {},
   "source": [
    "We see that the genres column appears to be a list at first glance, but is not actually in a list format:"
   ]
  },
  {
   "cell_type": "code",
   "execution_count": 185,
   "metadata": {},
   "outputs": [
    {
     "data": {
      "text/plain": [
       "'['"
      ]
     },
     "execution_count": 185,
     "metadata": {},
     "output_type": "execute_result"
    }
   ],
   "source": [
    "df_spotify['genres'].values[4362][0]"
   ]
  },
  {
   "cell_type": "markdown",
   "metadata": {},
   "source": [
    "To fix this, a Regular Expression (regex) statement will be used to return a list for each genre."
   ]
  },
  {
   "cell_type": "code",
   "execution_count": 198,
   "metadata": {},
   "outputs": [],
   "source": [
    "df_spotify['genres'] = df_spotify['genres'].fillna('[]')"
   ]
  },
  {
   "cell_type": "code",
   "execution_count": 199,
   "metadata": {},
   "outputs": [],
   "source": [
    "df_spotify['genres'] = df_spotify['genres'].apply(lambda x: [re.sub(' ', '_', i) for i in re.findall(r\"'([^']*)'\", x)])"
   ]
  },
  {
   "cell_type": "code",
   "execution_count": 208,
   "metadata": {},
   "outputs": [
    {
     "data": {
      "text/plain": [
       "'belgian_dance'"
      ]
     },
     "execution_count": 208,
     "metadata": {},
     "output_type": "execute_result"
    }
   ],
   "source": [
    "df_spotify['genres'].values[4362][0]"
   ]
  },
  {
   "cell_type": "code",
   "execution_count": null,
   "metadata": {},
   "outputs": [],
   "source": []
  }
 ],
 "metadata": {
  "kernelspec": {
   "display_name": "Python 3",
   "language": "python",
   "name": "python3"
  },
  "language_info": {
   "codemirror_mode": {
    "name": "ipython",
    "version": 3
   },
   "file_extension": ".py",
   "mimetype": "text/x-python",
   "name": "python",
   "nbconvert_exporter": "python",
   "pygments_lexer": "ipython3",
   "version": "3.8.5"
  }
 },
 "nbformat": 4,
 "nbformat_minor": 4
}
